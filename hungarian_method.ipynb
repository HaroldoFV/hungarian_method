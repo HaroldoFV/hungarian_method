{
  "nbformat": 4,
  "nbformat_minor": 0,
  "metadata": {
    "colab": {
      "provenance": [],
      "include_colab_link": true
    },
    "kernelspec": {
      "name": "python3",
      "display_name": "Python 3"
    },
    "language_info": {
      "name": "python"
    }
  },
  "cells": [
    {
      "cell_type": "markdown",
      "metadata": {
        "id": "view-in-github",
        "colab_type": "text"
      },
      "source": [
        "<a href=\"https://colab.research.google.com/github/HaroldoFV/hungarian_method/blob/main/hungarian_method.ipynb\" target=\"_parent\"><img src=\"https://colab.research.google.com/assets/colab-badge.svg\" alt=\"Open In Colab\"/></a>"
      ]
    },
    {
      "cell_type": "code",
      "execution_count": 1,
      "metadata": {
        "id": "FZ_pyS_rsd2t"
      },
      "outputs": [],
      "source": [
        "# Trabalhadores\n",
        "workers = [\"Ana\", \"Bruno\", \"Carlos\"]\n",
        "\n",
        "# Tarefas\n",
        "tasks = [\"Tarefa 1\", \"Tarefa 2\", \"Tarefa 3\"]\n",
        "\n",
        "# Matriz de custos\n",
        "costs = [\n",
        "    [15, 31, 12],\n",
        "    [45, 28, 29],\n",
        "    [22, 12, 45]\n",
        "]"
      ]
    },
    {
      "cell_type": "code",
      "source": [
        "def reduce_rows(costs):\n",
        "    for row in costs:\n",
        "        min_val = min(row)\n",
        "        for j in range(len(row)):\n",
        "            row[j] -= min_val\n",
        "    return costs\n",
        "\n",
        "costs_reduced = reduce_rows(costs)\n",
        "costs_reduced"
      ],
      "metadata": {
        "colab": {
          "base_uri": "https://localhost:8080/"
        },
        "id": "Ea4jFEkjsqxR",
        "outputId": "0cb837ab-1d80-4e98-dd20-3de934a9ffc4"
      },
      "execution_count": 2,
      "outputs": [
        {
          "output_type": "execute_result",
          "data": {
            "text/plain": [
              "[[3, 19, 0], [17, 0, 1], [10, 0, 33]]"
            ]
          },
          "metadata": {},
          "execution_count": 2
        }
      ]
    },
    {
      "cell_type": "code",
      "source": [
        "def reduce_cols(costs):\n",
        "    for j in range(len(costs[0])):\n",
        "        min_val = min(row[j] for row in costs)\n",
        "        for i in range(len(costs)):\n",
        "            costs[i][j] -= min_val\n",
        "    return costs\n",
        "\n",
        "costs_reduced_cols = reduce_cols(costs_reduced)\n",
        "costs_reduced_cols"
      ],
      "metadata": {
        "colab": {
          "base_uri": "https://localhost:8080/"
        },
        "id": "rk6RqWhQtScj",
        "outputId": "4d5c7ba1-c502-4136-a462-82b26c2cbcb8"
      },
      "execution_count": 3,
      "outputs": [
        {
          "output_type": "execute_result",
          "data": {
            "text/plain": [
              "[[0, 19, 0], [14, 0, 1], [7, 0, 33]]"
            ]
          },
          "metadata": {},
          "execution_count": 3
        }
      ]
    },
    {
      "cell_type": "code",
      "source": [
        "def mark_zeros(matrix):\n",
        "    rows = len(matrix)\n",
        "    cols = len(matrix[0])\n",
        "\n",
        "    covered_rows = set()\n",
        "    covered_cols = set()\n",
        "\n",
        "    while True:\n",
        "        # Count uncovered zeros in each row and column\n",
        "        row_zeros = []\n",
        "        for i in range(rows):\n",
        "          count = 0\n",
        "          if i not in covered_rows:\n",
        "            count += sum(1 for j in range(cols) if matrix[i][j] == 0 and j not in covered_cols)\n",
        "          row_zeros.append(count)\n",
        "\n",
        "        # Count uncovered zeros in each column\n",
        "        col_zeros = []\n",
        "        for j in range(cols):\n",
        "          count = 0\n",
        "          if j not in covered_cols:\n",
        "            count += sum(1 for i in range(rows) if matrix[i][j] == 0 and i not in covered_rows)\n",
        "          col_zeros.append(count)\n",
        "\n",
        "        # If no more uncovered zeros, break\n",
        "        if max(row_zeros) == 0 and max(col_zeros) == 0:\n",
        "            break\n",
        "\n",
        "        # Find the row or column with the maximum number of uncovered zeros\n",
        "        max_row_zeros = max((count, i) for i, count in enumerate(row_zeros))\n",
        "        max_col_zeros = max((count, j) for j, count in enumerate(col_zeros))\n",
        "\n",
        "        if max_row_zeros[0] >= max_col_zeros[0] and max_row_zeros[1] not in covered_rows:\n",
        "            covered_rows.add(max_row_zeros[1])\n",
        "        elif max_col_zeros[1] not in covered_cols:\n",
        "            covered_cols.add(max_col_zeros[1])\n",
        "\n",
        "\n",
        "    return list(covered_rows), list(covered_cols)\n",
        "\n",
        "# Testing with the provided matrix\n",
        "marked = mark_zeros(costs_reduced_cols)\n",
        "marked\n"
      ],
      "metadata": {
        "colab": {
          "base_uri": "https://localhost:8080/"
        },
        "id": "iHjJh645tTfJ",
        "outputId": "06328f53-286c-4998-a64a-624869334116"
      },
      "execution_count": 4,
      "outputs": [
        {
          "output_type": "execute_result",
          "data": {
            "text/plain": [
              "([0], [1])"
            ]
          },
          "metadata": {},
          "execution_count": 4
        }
      ]
    },
    {
      "cell_type": "code",
      "source": [
        "def adjust_matrix(cost_matrix, covered):\n",
        "    covered_rows, covered_cols = covered\n",
        "    min_val = float('inf')\n",
        "\n",
        "    rows, cols = len(cost_matrix), len(cost_matrix[0])\n",
        "\n",
        "    # Step 1: Find the smallest value from the uncovered cells\n",
        "    for i in range(rows):\n",
        "        for j in range(cols):\n",
        "            if i not in covered_rows and j not in covered_cols:\n",
        "                min_val = min(min_val, cost_matrix[i][j])\n",
        "\n",
        "    # Step 2: Subtract this value from cells of the unmarked rows\n",
        "    for i in range(rows):\n",
        "        if i not in covered_rows:\n",
        "            for j in range(cols):\n",
        "                cost_matrix[i][j] -= min_val\n",
        "\n",
        "    # Step 3: Add this value to cells of the marked columns\n",
        "    for j in covered_cols:\n",
        "        for i in range(rows):\n",
        "            cost_matrix[i][j] += min_val\n",
        "\n",
        "    return cost_matrix\n",
        "\n",
        "adjusted = adjust_matrix(costs_reduced_cols, marked)\n",
        "adjusted"
      ],
      "metadata": {
        "colab": {
          "base_uri": "https://localhost:8080/"
        },
        "id": "8AAxcE8YJaJM",
        "outputId": "231ead6d-9025-4f1b-d94c-84554fb9d732"
      },
      "execution_count": 5,
      "outputs": [
        {
          "output_type": "execute_result",
          "data": {
            "text/plain": [
              "[[0, 20, 0], [13, 0, 0], [6, 0, 32]]"
            ]
          },
          "metadata": {},
          "execution_count": 5
        }
      ]
    },
    {
      "cell_type": "code",
      "source": [
        "def find_assignments(matrix):\n",
        "    n = len(matrix)\n",
        "    assignments = [-1] * n  # Initialize assignments\n",
        "\n",
        "    def is_safe(row, col):\n",
        "        for i in range(row):\n",
        "            if assignments[i] == col or matrix[row][col] != 0:\n",
        "                return False\n",
        "        return True\n",
        "\n",
        "    def solve(row):\n",
        "        if row == n:\n",
        "            return True\n",
        "        for col in range(n):\n",
        "            if is_safe(row, col):\n",
        "                assignments[row] = col\n",
        "                if solve(row + 1):\n",
        "                    return True\n",
        "                assignments[row] = -1\n",
        "        return False\n",
        "\n",
        "    if solve(0):\n",
        "        return [(i, assignments[i]) for i in range(n)]\n",
        "    else:\n",
        "        return []\n",
        "\n",
        "assignments = find_assignments(adjusted)\n",
        "assignments"
      ],
      "metadata": {
        "colab": {
          "base_uri": "https://localhost:8080/"
        },
        "id": "8aWZP063PN0J",
        "outputId": "24bb0841-66cd-4f8a-8edf-b12fa0e7cb8f"
      },
      "execution_count": 6,
      "outputs": [
        {
          "output_type": "execute_result",
          "data": {
            "text/plain": [
              "[(0, 0), (1, 2), (2, 1)]"
            ]
          },
          "metadata": {},
          "execution_count": 6
        }
      ]
    },
    {
      "cell_type": "code",
      "source": [
        "def hungarian_method(workers, tasks, costs):\n",
        "    costs_reduced = reduce_rows(costs)\n",
        "    costs_reduced_cols = reduce_cols(costs_reduced)\n",
        "\n",
        "    while True:\n",
        "        marked = mark_zeros(costs_reduced_cols)\n",
        "        if len(marked[0]) + len(marked[1]) >= len(costs):\n",
        "            break\n",
        "        costs_reduced_cols = adjust_matrix(costs_reduced_cols, marked)\n",
        "\n",
        "    assignments = find_assignments(costs_reduced_cols)\n",
        "\n",
        "    # Return the assignments in terms of workers and tasks\n",
        "    return [(workers[i], tasks[j]) for i, j in assignments]\n",
        "\n",
        "# Testing the hungarian_method with the provided data\n",
        "hungarian_method(workers, tasks, costs)"
      ],
      "metadata": {
        "colab": {
          "base_uri": "https://localhost:8080/"
        },
        "id": "XkVkBeYDR_16",
        "outputId": "9c5ca5aa-0fef-4cc6-a201-36165850d6d8"
      },
      "execution_count": 7,
      "outputs": [
        {
          "output_type": "execute_result",
          "data": {
            "text/plain": [
              "[('Ana', 'Tarefa 1'), ('Bruno', 'Tarefa 3'), ('Carlos', 'Tarefa 2')]"
            ]
          },
          "metadata": {},
          "execution_count": 7
        }
      ]
    },
    {
      "cell_type": "code",
      "source": [],
      "metadata": {
        "id": "uJiG3k18SAod"
      },
      "execution_count": null,
      "outputs": []
    }
  ]
}